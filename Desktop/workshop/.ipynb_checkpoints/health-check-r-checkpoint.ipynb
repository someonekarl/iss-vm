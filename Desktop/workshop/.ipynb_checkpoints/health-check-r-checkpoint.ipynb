{
 "cells": [
  {
   "cell_type": "code",
   "execution_count": 1,
   "metadata": {},
   "outputs": [],
   "source": [
    "x <- rnorm(10000)"
   ]
  },
  {
   "cell_type": "code",
   "execution_count": 2,
   "metadata": {},
   "outputs": [
    {
     "data": {
      "image/png": "[encoded data removed]",
      "text/plain": [
       "Plot with title “Histogram of x”"
      ]
     },
     "metadata": {},
     "output_type": "display_data"
    }
   ],
   "source": [
    "hist(x, breaks = 50)"
   ]
  },
  {
   "cell_type": "code",
   "execution_count": 3,
   "metadata": {
    "scrolled": false
   },
   "outputs": [
    {
     "name": "stderr",
     "output_type": "stream",
     "text": [
      "Loading required package: ggplot2\n",
      "\n",
      "Attaching package: ‘plotly’\n",
      "\n",
      "The following object is masked from ‘package:ggplot2’:\n",
      "\n",
      "    last_plot\n",
      "\n",
      "The following object is masked from ‘package:stats’:\n",
      "\n",
      "    filter\n",
      "\n",
      "The following object is masked from ‘package:graphics’:\n",
      "\n",
      "    layout\n",
      "\n",
      "\n",
      "Listening on http://127.0.0.1:5280\n",
      "Warning message in origRenderFunc():\n",
      "“Ignoring explicitly provided widget ID \"cfa2ada6693\"; Shiny doesn't use them”No trace type specified:\n",
      "  Based on info supplied, a 'scatter' trace seems appropriate.\n",
      "  Read more about this trace type -> https://plot.ly/r/reference/#scatter\n",
      "No scatter mode specifed:\n",
      "  Setting the mode to markers\n",
      "  Read more about this attribute -> https://plot.ly/r/reference/#scatter-mode\n"
     ]
    }
   ],
   "source": [
    "library(shiny)\n",
    "library(plotly)\n",
    "\n",
    "ui <- fluidPage(\n",
    "  plotlyOutput(\"plot\"),\n",
    "  verbatimTextOutput(\"event\")\n",
    ")\n",
    "\n",
    "server <- function(input, output) {\n",
    "\n",
    "  # renderPlotly() also understands ggplot2 objects!\n",
    "  output$plot <- renderPlotly({\n",
    "    plot_ly(mtcars, x = ~mpg, y = ~wt)\n",
    "  })\n",
    "\n",
    "  output$event <- renderPrint({\n",
    "    d <- event_data(\"plotly_hover\")\n",
    "    if (is.null(d)) \"Hover on a point!\" else d\n",
    "  })\n",
    "}\n",
    "\n",
    "shinyApp(ui, server)"
   ]
  },
  {
   "cell_type": "code",
   "execution_count": null,
   "metadata": {},
   "outputs": [],
   "source": []
  }
 ],
 "metadata": {
  "kernelspec": {
   "display_name": "R",
   "language": "R",
   "name": "ir"
  },
  "language_info": {
   "codemirror_mode": "r",
   "file_extension": ".r",
   "mimetype": "text/x-r-source",
   "name": "R",
   "pygments_lexer": "r",
   "version": "3.4.2"
  }
 },
 "nbformat": 4,
 "nbformat_minor": 2
}
