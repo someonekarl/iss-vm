{
 "cells": [
  {
   "cell_type": "code",
   "execution_count": 1,
   "metadata": {
    "scrolled": true
   },
   "outputs": [
    {
     "name": "stdout",
     "output_type": "stream",
     "text": [
      "/home/iss-user/Desktop/workshop\r\n"
     ]
    }
   ],
   "source": [
    "!pwd"
   ]
  },
  {
   "cell_type": "code",
   "execution_count": 2,
   "metadata": {},
   "outputs": [
    {
     "name": "stdout",
     "output_type": "stream",
     "text": [
      "total 1416\r\n",
      "-rw-rw-r-- 1 iss-user iss-user    2027 Dec 14 10:55 git clone example.ipynb\r\n",
      "-rw-rw-r-- 1 iss-user iss-user    1564 Dec 14 11:05 health-check-python.ipynb\r\n",
      "-rw-rw-r-- 1 iss-user iss-user   17432 Dec 14 11:06 health-check-r.ipynb\r\n",
      "-rw-rw-r-- 1 iss-user iss-user      39 Dec 14 10:55 health-check-rstudio.R\r\n",
      "-rw-rw-r-- 1 iss-user iss-user  328754 Dec 15 13:29 Simple Linear Regression - An example using R.ipynb\r\n",
      "-rw-rw-r-- 1 iss-user iss-user 1082862 Dec 15 13:30 Simple Machine Learning - An example using Python.ipynb\r\n"
     ]
    }
   ],
   "source": [
    "!ls -l"
   ]
  },
  {
   "cell_type": "code",
   "execution_count": null,
   "metadata": {},
   "outputs": [],
   "source": [
    "!git clone https://github.com/telescopeuser/GCP-SamGu.git"
   ]
  },
  {
   "cell_type": "code",
   "execution_count": null,
   "metadata": {},
   "outputs": [],
   "source": [
    "!ls -l"
   ]
  },
  {
   "cell_type": "code",
   "execution_count": null,
   "metadata": {},
   "outputs": [],
   "source": []
  }
 ],
 "metadata": {
  "kernelspec": {
   "display_name": "Python 3",
   "language": "python",
   "name": "python3"
  },
  "language_info": {
   "codemirror_mode": {
    "name": "ipython",
    "version": 3
   },
   "file_extension": ".py",
   "mimetype": "text/x-python",
   "name": "python",
   "nbconvert_exporter": "python",
   "pygments_lexer": "ipython3",
   "version": "3.6.3"
  }
 },
 "nbformat": 4,
 "nbformat_minor": 2
}
